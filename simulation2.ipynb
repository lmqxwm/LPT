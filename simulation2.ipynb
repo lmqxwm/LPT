{
 "cells": [
  {
   "cell_type": "markdown",
   "metadata": {},
   "source": [
    "# Simulation2\n",
    "\n",
    "**Mengqi Liu**\n",
    "\n",
    "**Jun 16, 2023**\n",
    "___"
   ]
  },
  {
   "cell_type": "code",
   "execution_count": 1,
   "metadata": {},
   "outputs": [],
   "source": [
    "import numpy as np\n",
    "import pandas as pd\n",
    "import math\n",
    "from itertools import permutations, combinations\n",
    "import statsmodels.formula.api as smf\n",
    "import multiprocessing as mp\n",
    "from tqdm import tqdm\n",
    "import matplotlib.pyplot as plt\n",
    "import statsmodels.stats.multitest as ssm"
   ]
  },
  {
   "cell_type": "code",
   "execution_count": 8,
   "metadata": {},
   "outputs": [],
   "source": [
    "def data_generative1(N=100, s=1):\n",
    "    np.random.seed(s); Z = np.random.uniform(0, 10, N)\n",
    "\n",
    "    def fz(Z):\n",
    "        return np.array([np.exp(math.sin(z) - np.log(4)) for z in Z])\n",
    "    \n",
    "    np.random.seed(s); X = np.random.binomial(1, fz(Z))\n",
    "    np.random.seed(s+100); Y = np.random.binomial(1, fz(Z))\n",
    "    return X, Y, Z\n",
    "X, Y, Z = data_generative1(N=100)"
   ]
  },
  {
   "cell_type": "code",
   "execution_count": 9,
   "metadata": {},
   "outputs": [],
   "source": [
    "modx = smf.ols(formula='X ~ Z', data=pd.DataFrame({'X':X, 'Y':Y, 'Z':Z})).fit()"
   ]
  },
  {
   "cell_type": "code",
   "execution_count": 12,
   "metadata": {},
   "outputs": [],
   "source": [
    "modx = smf.ols(formula='X ~ Z', data=pd.DataFrame({'X':X, 'Y':Y, 'Z':Z})).fit()\n",
    "mody = smf.ols(formula='Y ~ Z', data=pd.DataFrame({'X':X, 'Y':Y, 'Z':Z})).fit()\n",
    "T = np.abs(np.corrcoef(modx.resid, mody.resid)[0, 1])"
   ]
  },
  {
   "cell_type": "code",
   "execution_count": 25,
   "metadata": {},
   "outputs": [],
   "source": [
    "def discretize(X, M = 10):\n",
    "    '''Discretize continuous variable X\n",
    "\n",
    "    Args: \n",
    "        M: num of bins\n",
    "    \n",
    "    Returns:\n",
    "        new_X: (np.array) discretized X with values of midpoints in all bins\n",
    "    '''\n",
    "    bins = np.linspace(np.min(X), np.max(X), M+1)\n",
    "    mid_bins = (bins[0:-1] + bins[1:]) / 2\n",
    "    bins[0] -= 1 # pd.cut doesn't include left boundary value except add right=False\n",
    "    G = np.array(pd.cut(X, bins, labels=[x for x in range(M)]))\n",
    "    print(bins)\n",
    "    print(mid_bins)\n",
    "    new_X = np.array([mid_bins[x] for x in G])\n",
    "    return new_X"
   ]
  },
  {
   "cell_type": "code",
   "execution_count": 29,
   "metadata": {},
   "outputs": [
    {
     "data": {
      "text/plain": [
       "array([0, 0, 0, 0, 1, 1, 1, 0, 0, 0, 0, 1, 1, 1, 0, 1, 0, 0, 1, 1, 0, 1,\n",
       "       0, 1, 1, 1, 1, 0, 1, 1, 1, 0, 1, 0, 1, 0, 1, 0, 0, 0, 1, 0, 0, 0,\n",
       "       1, 0, 1, 0, 0, 1, 0, 1, 1, 0, 0, 0, 0, 1, 0, 1, 1, 0, 1, 0, 0, 0,\n",
       "       1, 0, 1, 0, 1, 1, 1, 0, 0, 1, 1, 0, 0, 0, 1, 0, 0, 0, 0, 1, 0, 1,\n",
       "       1, 0, 1, 1, 0, 0, 0, 1, 1, 0, 0, 0])"
      ]
     },
     "execution_count": 29,
     "metadata": {},
     "output_type": "execute_result"
    }
   ],
   "source": [
    "X.copy()"
   ]
  }
 ],
 "metadata": {
  "kernelspec": {
   "display_name": "Python 3.9.12 ('base')",
   "language": "python",
   "name": "python3"
  },
  "language_info": {
   "codemirror_mode": {
    "name": "ipython",
    "version": 3
   },
   "file_extension": ".py",
   "mimetype": "text/x-python",
   "name": "python",
   "nbconvert_exporter": "python",
   "pygments_lexer": "ipython3",
   "version": "3.9.12"
  },
  "orig_nbformat": 4,
  "vscode": {
   "interpreter": {
    "hash": "17b8fe76efb4dec6ba4223296bf159357314769c639df3f6e5e6153d303f5f7d"
   }
  }
 },
 "nbformat": 4,
 "nbformat_minor": 2
}
